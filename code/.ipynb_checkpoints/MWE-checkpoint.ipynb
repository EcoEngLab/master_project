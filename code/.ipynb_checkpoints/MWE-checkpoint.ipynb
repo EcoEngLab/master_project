{
 "cells": [
  {
   "cell_type": "markdown",
   "id": "9ff0091b",
   "metadata": {},
   "source": [
    "Context"
   ]
  },
  {
   "cell_type": "markdown",
   "id": "22ef7baf-8123-4426-b081-d67d9243eb5b",
   "metadata": {},
   "source": [
    "1. Project background：\n",
    "This project is part of a big new program titled ‘A new Green Revolution: Manipulating the soil microbiome to enhance the sustainability of 21st century agriculture,’. The current focus is to optimise/engineer soil microbiomes to suppress the fungus Gaeumannomyces tritici, which causes the take-all disease in wheat (T. aestivum).\n",
    "\n",
    "2. Microbial community coalescence：\n",
    "It is the process by which two distinct microbial communities encounter one another and interact to form a new ‘daughter’ community. This assemblage may more closely resemble one ‘parent’ community than the other, and its functional profile may be totally unique. We plan to use a coalescence method to create new community to fight against take-all disease.\n"
   ]
  },
  {
   "cell_type": "markdown",
   "id": "b75775ee-46ca-4738-aa8d-5ef7572ea4d8",
   "metadata": {},
   "source": [
    "Obectives"
   ]
  },
  {
   "cell_type": "markdown",
   "id": "5758e3ec",
   "metadata": {},
   "source": [
    "Can we predict winners and losers during coalescence?\n",
    "This very basic question remains relatively un-explored. However, we do had some insights on community assembly. That is, species with higher CUE value tend to survive. And there is certain connection between species richness and CUE variance.\n",
    "\n",
    "We will use the similiar methdology as assembly to simulate the community dynamics during coalescence, mediated by temperature."
   ]
  },
  {
   "cell_type": "markdown",
   "id": "a915eba0-bbf5-4a56-8cbc-aade80a0238d",
   "metadata": {},
   "source": [
    "Microbial Consumer Resource Model"
   ]
  },
  {
   "cell_type": "markdown",
   "id": "c5f29a22",
   "metadata": {},
   "source": [
    "$$\n",
    "\\frac{dC_i}{dt} = \\sum_{\\alpha=0}^{M} C_i R_{\\alpha} u_{i\\alpha} (1 - \\lambda_{\\alpha}) - C_i m_i\n",
    "$$\n",
    "\n",
    "$$\n",
    "\\frac{dR_{\\alpha}}{dt} = \\rho_{\\alpha} - R_{\\alpha} \\omega_{\\alpha} - \\sum_{i=0}^{N} C_i R_{\\alpha} u_{i\\alpha} + \\sum_{i=0}^{N} \\sum_{\\beta=0}^{M} C_i R_{\\beta} u_{i\\beta} l_{\\beta\\alpha}\n",
    "$$\n"
   ]
  },
  {
   "cell_type": "markdown",
   "id": "38de6499-e083-4fb1-8385-08cba4df9d1d",
   "metadata": {},
   "source": [
    "| **Parameter** | **Description** | **Key** |\n",
    "|--------------|---------------|--------|\n",
    "| $C_i$ | Biomass of the $i$th consumer | - |\n",
    "| $R_{\\alpha}$ | Mass of the $\\alpha$th resource | - |\n",
    "| $N$ | Number of consumer populations | $N$ |\n",
    "| $M$ | Number of resources | $M$ |\n",
    "| $u_{i\\alpha}$ | Uptake rate of the $\\alpha$th resource by the $i$th consumer | $u$ |\n",
    "| $m_i$ | Loss term for the $i$th consumer | $m$ |\n",
    "| $\\rho_{\\alpha}$ | Inflow rate for the $\\alpha$th resource | $\\rho$ |\n",
    "| $\\omega_{\\alpha}$ | Outflow term for the $j$th resource | $\\omega$ |\n",
    "| $l_{\\alpha\\beta}$ | Proportion of uptake of the $\\alpha$th resource leaked to the $\\beta$th resource. | $l$ |\n",
    "| $\\lambda_{\\alpha}$ | Total proportion of the $\\alpha$th resource leaked, same as $\\sum_{\\beta} l_{\\alpha\\beta}$ | $\\lambda$ |\n"
   ]
  },
  {
   "cell_type": "markdown",
   "id": "37c06982-a9ca-4006-8926-5fd27604c767",
   "metadata": {},
   "source": [
    "inputs and outputs\n",
    "why do we use this method"
   ]
  },
  {
   "cell_type": "markdown",
   "id": "0f191451",
   "metadata": {},
   "source": [
    "Simulation:"
   ]
  },
  {
   "cell_type": "markdown",
   "id": "04e09154-3f6e-497c-9684-23605d9d8419",
   "metadata": {},
   "source": [
    "Import the packages"
   ]
  },
  {
   "cell_type": "code",
   "execution_count": null,
   "id": "a6314417-d8c9-4139-a975-f7639417f210",
   "metadata": {},
   "outputs": [],
   "source": [
    "   using Pkg\n",
    "   Pkg.activate(\"../packages\")\n",
    "   using Distributions\n",
    "   using MiCRM"
   ]
  },
  {
   "cell_type": "markdown",
   "id": "015723d8-f0ba-4ee2-85b2-1f77e7035b28",
   "metadata": {},
   "source": [
    "Set system size and leakage rate"
   ]
  },
  {
   "cell_type": "code",
   "execution_count": null,
   "id": "5af7fbe7-e7c5-45a4-b1ae-e4cde275520f",
   "metadata": {},
   "outputs": [],
   "source": [
    "   N,M,leakage = 100,50,0.3"
   ]
  },
  {
   "cell_type": "markdown",
   "id": "71161959-1ce3-4ee1-b259-52dfe58081a9",
   "metadata": {},
   "source": [
    "N is the number of species in a community, M is the number of resource types, leakage is the overall leakage rate"
   ]
  },
  {
   "cell_type": "markdown",
   "id": "391e95fe-1357-42f2-8670-23945fadf4c7",
   "metadata": {},
   "source": [
    "Make uptake matrix out of dirichlet distribution"
   ]
  },
  {
   "cell_type": "code",
   "execution_count": null,
   "id": "e410cadc-c777-47c6-853e-bfac3f94cf57",
   "metadata": {},
   "outputs": [],
   "source": [
    "   u =  MiCRM.Parameters.modular_uptake(M,N; N_modules = 2, s_ratio = 10.0)"
   ]
  },
  {
   "cell_type": "markdown",
   "id": "ce46934a-ac92-46a9-a31c-c74b5812cdb2",
   "metadata": {},
   "source": [
    "Define other terms"
   ]
  },
  {
   "cell_type": "code",
   "execution_count": null,
   "id": "bf92674e-7c58-4be1-9046-4cd2cd5a4c3f",
   "metadata": {},
   "outputs": [],
   "source": [
    "   #cost term\n",
    "   m = ones(N)\n",
    "\n",
    "   #resource inflow + outflow\n",
    "   ρ,ω = ones(M),ones(M)"
   ]
  },
  {
   "cell_type": "markdown",
   "id": "0b5db8f5-aeb4-4830-88d2-15b8be6b307e",
   "metadata": {},
   "source": [
    "m is a loss term for the the consumers; ρ and ω are inflow rate and outflow rate for the resource respectively."
   ]
  },
  {
   "cell_type": "markdown",
   "id": "1f8e066e-dddf-4cec-8d0d-83118e6a4e95",
   "metadata": {},
   "source": [
    "Make leakage matrix out of dirichlet distribution and make it modular"
   ]
  },
  {
   "cell_type": "code",
   "execution_count": null,
   "id": "e386fe45-8420-4545-b405-316e3c114d7e",
   "metadata": {},
   "outputs": [],
   "source": [
    "   l = MiCRM.Parameters.modular_leakage(M; N_modules = 2, s_ratio = 10.0, λ = leakage)"
   ]
  },
  {
   "cell_type": "markdown",
   "id": "e7ef01d4-d097-45ec-a5a8-0bd1c55610cf",
   "metadata": {},
   "source": [
    "Set original state of the system and solve it"
   ]
  },
  {
   "cell_type": "code",
   "execution_count": null,
   "id": "d16e10e5-bc21-4a1b-8fcf-c2e77fea30fe",
   "metadata": {},
   "outputs": [],
   "source": [
    "   #define parameters\n",
    "   param = MiCRM.Parameters.generate_params(N, M;  u = u, m = m, ρ = ρ, ω = ω, l = l, λ = leakage)\n",
    "   \n",
    "   #original state\n",
    "   x0 = ones(N+M)\n",
    "   #time span\n",
    "   tspan = (0.0, 10.0)\n",
    "\n",
    "   #define problem\n",
    "   using DifferentialEquations\n",
    "   prob = ODEProblem(MiCRM.Simulations.dx!, x0, tspan, param)\n",
    "   "
   ]
  },
  {
   "cell_type": "markdown",
   "id": "16dc0295-a56f-46e7-a32f-3639d976abdd",
   "metadata": {},
   "source": [
    "create an ODEProblem object which defines the problem for the ODE solver and then solve it with the aptly named solve function.\n",
    "To define the ODEProblem we need to specify the initial state of the system as well as the timespan"
   ]
  },
  {
   "cell_type": "code",
   "execution_count": null,
   "id": "6ec96a8b-8a7b-4c75-b753-578edef217a6",
   "metadata": {},
   "outputs": [],
   "source": [
    "   sol = solve(prob, Tsit5())"
   ]
  },
  {
   "cell_type": "markdown",
   "id": "470325a8-b6fe-42c6-bff3-f47f16db7e13",
   "metadata": {},
   "source": [
    "In this case, we use Tsit5 as a solver, which is widely applicable for non-stiff problems.\n",
    "If need more information about the solver choice, refer to https://docs.sciml.ai/DiffEqDocs/stable/solvers/ode_solve/"
   ]
  },
  {
   "cell_type": "markdown",
   "id": "d630276c-be81-48c3-ba8e-7bba09aca5c7",
   "metadata": {},
   "source": [
    "Calculate key properties"
   ]
  },
  {
   "cell_type": "code",
   "execution_count": null,
   "id": "4b361994-3824-48db-b60f-85e3e359b795",
   "metadata": {},
   "outputs": [],
   "source": [
    "   # jacobian of system from the solution object\n",
    "   J = MiCRM.Analysis.get_jac(sol)\n",
    "   # generate purbulence matrix\n",
    "   pur = rand(size(J, 1))\n",
    "   # the instantaneous rate of growth of the perturbation pur at time t.\n",
    "   t = 5\n",
    "   MiCRM.Analysis.get_Rins(J, pur, t)\n",
    "   # Determine the stability a system given its jaccobian by testing if the real part of the leading eigenvalue is positive.\n",
    "   MiCRM.Analysis.get_stability(J)\n",
    "   #test whether a system is reactive to the perturbation \n",
    "   MiCRM.Analysis.get_reactivity(J,pur)\n",
    "   #get the rate of return of the system from perturbation\n",
    "   MiCRM.Analysis.get_return_rate(J)"
   ]
  },
  {
   "cell_type": "markdown",
   "id": "d16ac5ff-2e7f-4d21-a3c1-47aec3401c43",
   "metadata": {},
   "source": [
    "Visualization"
   ]
  },
  {
   "cell_type": "markdown",
   "id": "b813476f-a06c-4dbe-b971-388a18a2f28e",
   "metadata": {},
   "source": [
    "figures"
   ]
  },
  {
   "cell_type": "markdown",
   "id": "ef32ce1a-90f9-4bec-bb07-0e7a0669120b",
   "metadata": {},
   "source": [
    "Outputs and next step"
   ]
  },
  {
   "cell_type": "markdown",
   "id": "fecdee04-3912-4bad-a660-339204c36344",
   "metadata": {},
   "source": [
    "Outputs: two assembled stable community, with the information of each species' resource uptake rate and leakage "
   ]
  },
  {
   "cell_type": "markdown",
   "id": "2356d532-b6eb-4c19-8337-138dfb3e509e",
   "metadata": {},
   "source": [
    "Documents of functions"
   ]
  },
  {
   "cell_type": "markdown",
   "id": "dbdbe119-4f97-44a7-8509-db4120c0f569",
   "metadata": {},
   "source": [
    "MiCRM.Parameters.modular_uptake  \n",
    "```MiCRM.Parameters.modular_uptake(M,N; N_modules = 2, s_ratio = 10.0)```  \n",
    "It helps generate an uptake matrix using a Dirichlet distribution such that the uptake of all consumers sums to 1.\n",
    "The number of modules determines how many groups of resources the consumers are specialised over. For example if N_modules = 2 then the resources will be split into two groups with half the consumers specialising on one and half on the other.\n",
    "\n",
    "The degree of specialisation is determined by the s_ratio value. This controls the relative value of the dirchlet α parameters which determine how the probabiltiy density function is distributed over the different resources. Specialisation is obtained by setting the α values for resources that specialists consume to higher values meaning they have a higher probablity of a larger value. When s_ratio = 1 the proabailtiy is uniform and all resources are equally likely to be consumed. When s_ratio >1 then consumers are more likely to consume resources within thier module."
   ]
  },
  {
   "cell_type": "markdown",
   "id": "86e26e62-2e45-4628-8899-761e3b1077a4",
   "metadata": {},
   "source": [
    "MiCRM.Parameters.modular_leakage  \n",
    "``` MiCRM.Parameters.modular_leakage(M; N_modules = 2, s_ratio = 10.0, λ = leakage)```  \n",
    "It generates a modular leakage matrix with a directional leakage structure. The matrix is generated using a Dirichlet distribution such that the leakage of all resources sums to λ.\n",
    "\n",
    "The number of modules determines how many groups of resources they are split into. For example if N_modules = 5 then the resources will be split into five groups with the first group of resources tending to leak to the second, the second to the third and so on.\n",
    "\n",
    "The degree of to which resources leak in this constrained way (verses randomly across all resources) is determined by the s_ratio value. This controls the relative value of the dirchlet α parameters which determine how the probabiltiy density function is distributed over the different resources. A greater probabiltiy of leakage from one resource to another is obtained by setting the α values for resources to higher values. When s_ratio = 1 the proabailtiy is uniform and all resources are equally likely to be leaked to each other. When s_ratio >1 then resources are more likely to leak to resources thier own or the next module in the sequence."
   ]
  },
  {
   "cell_type": "markdown",
   "id": "9a1c6883-99c1-4239-8d5e-ea671b1be10e",
   "metadata": {},
   "source": [
    "MiCRM.Parameters.generate_params  \n",
    "```MiCRM.Parameters.generate_params(N, M;  u = u, m = m, ρ = ρ, ω = ω, l = l, λ = leakage)```  \n",
    "It generates parameter sets for MiCRM simualtions. Requires the system size is defined as well as the functions to generate the actual parameters used in the simulations. Extra arguments can also be passed via the kwargs argument.By default the function generates a random MiCRM system with no structure and uptake and leakage matricies generated by Dirichlet distribitions.\n",
    "\n",
    "The function returns a NamedTuple with all the parameters as well as a kw entry which itself is a NamedTuple with the additional arguments provided."
   ]
  },
  {
   "cell_type": "code",
   "execution_count": null,
   "id": "ae24371c-907e-4110-a595-7f6febbae32e",
   "metadata": {},
   "outputs": [],
   "source": []
  }
 ],
 "metadata": {
  "kernelspec": {
   "display_name": "Julia 1.11.2",
   "language": "julia",
   "name": "julia-1.11"
  },
  "language_info": {
   "file_extension": ".jl",
   "mimetype": "application/julia",
   "name": "julia",
   "version": "1.11.2"
  }
 },
 "nbformat": 4,
 "nbformat_minor": 5
}
