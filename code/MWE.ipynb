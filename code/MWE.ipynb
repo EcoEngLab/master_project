{
 "cells": [
  {
   "cell_type": "markdown",
   "id": "b75775ee-46ca-4738-aa8d-5ef7572ea4d8",
   "metadata": {},
   "source": [
    "obectives of this program"
   ]
  },
  {
   "cell_type": "markdown",
   "id": "22ef7baf-8123-4426-b081-d67d9243eb5b",
   "metadata": {},
   "source": [
    "1. the context of coalescence( background )"
   ]
  },
  {
   "cell_type": "markdown",
   "id": "1cc41ef8-52e7-47fd-a4be-e992468dd2de",
   "metadata": {},
   "source": [
    "2. My concept and plan about this research"
   ]
  },
  {
   "cell_type": "markdown",
   "id": "1dc5571a-223a-4a74-a543-d4dff673aae9",
   "metadata": {},
   "source": [
    "3. future plan(next step)"
   ]
  },
  {
   "cell_type": "markdown",
   "id": "a915eba0-bbf5-4a56-8cbc-aade80a0238d",
   "metadata": {},
   "source": [
    "equations"
   ]
  },
  {
   "cell_type": "markdown",
   "id": "38de6499-e083-4fb1-8385-08cba4df9d1d",
   "metadata": {},
   "source": [
    "inputs and outputs\n",
    "why do we use this method"
   ]
  },
  {
   "cell_type": "markdown",
   "id": "04e09154-3f6e-497c-9684-23605d9d8419",
   "metadata": {},
   "source": [
    "Import the packages"
   ]
  },
  {
   "cell_type": "code",
   "execution_count": 1,
   "id": "a6314417-d8c9-4139-a975-f7639417f210",
   "metadata": {},
   "outputs": [
    {
     "name": "stderr",
     "output_type": "stream",
     "text": [
      "\u001b[32m\u001b[1m  Activating\u001b[22m\u001b[39m project at `~/Documents/digital_microbiome/MiCRM/packages`\n"
     ]
    }
   ],
   "source": [
    "   using Pkg\n",
    "   Pkg.activate(\"../packages\")\n",
    "   using Distributions\n",
    "   using MiCRM"
   ]
  },
  {
   "cell_type": "markdown",
   "id": "015723d8-f0ba-4ee2-85b2-1f77e7035b28",
   "metadata": {},
   "source": [
    "Set system size and leakage rate"
   ]
  },
  {
   "cell_type": "code",
   "execution_count": 2,
   "id": "5af7fbe7-e7c5-45a4-b1ae-e4cde275520f",
   "metadata": {},
   "outputs": [
    {
     "data": {
      "text/plain": [
       "(100, 50, 0.3)"
      ]
     },
     "execution_count": 2,
     "metadata": {},
     "output_type": "execute_result"
    }
   ],
   "source": [
    "   N,M,leakage = 100,50,0.3"
   ]
  },
  {
   "cell_type": "markdown",
   "id": "71161959-1ce3-4ee1-b259-52dfe58081a9",
   "metadata": {},
   "source": [
    "N is the number of species in a community, M is the number of resource types, leakage is the overall leakage rate"
   ]
  },
  {
   "cell_type": "markdown",
   "id": "391e95fe-1357-42f2-8670-23945fadf4c7",
   "metadata": {},
   "source": [
    "Make uptake matrix out of dirichlet distribution"
   ]
  },
  {
   "cell_type": "code",
   "execution_count": 3,
   "id": "e410cadc-c777-47c6-853e-bfac3f94cf57",
   "metadata": {},
   "outputs": [
    {
     "data": {
      "text/plain": [
       "50×100 Matrix{Float64}:\n",
       " 0.0228498    0.0279291    0.028028     …  0.00149532   0.00298185\n",
       " 0.0164318    0.0288344    0.0262614       0.00233634   0.00291566\n",
       " 0.0305011    0.00871968   0.0041449       0.00155349   0.000308966\n",
       " 0.00203741   0.0236238    0.0325241       0.003839     0.00171899\n",
       " 0.018145     0.0182143    0.00980698      0.00224639   0.00211286\n",
       " 0.017946     0.0292746    0.0101066    …  0.00245168   0.00109866\n",
       " 0.0111957    0.00599084   0.0140818       0.00321148   0.00188048\n",
       " 0.00397256   0.0241991    0.00801332      0.00112261   0.00218671\n",
       " 0.0315154    0.0263172    0.0101395       0.0026384    0.000291593\n",
       " 0.0329976    0.00661551   0.00906015      0.000604361  0.00240581\n",
       " 0.00576665   0.0282021    0.0165121    …  0.00279692   0.00186496\n",
       " 0.0177809    0.026757     0.0237751       1.95755e-5   0.00145403\n",
       " 0.000882859  0.0108269    0.00854039      0.00323617   0.00140859\n",
       " ⋮                                      ⋱               \n",
       " 0.00271767   0.00349249   0.000984726     0.0122299    0.00622416\n",
       " 0.00275408   0.000294737  0.00107972      0.00591314   0.0131931\n",
       " 0.00349527   0.00292762   0.000412566  …  0.0324257    0.0331543\n",
       " 0.00128588   0.00312371   0.00105706      0.0309596    0.0209524\n",
       " 0.0028099    0.00231554   0.00358819      0.0209752    0.0205994\n",
       " 0.000669583  0.00297645   0.000317925     0.00288207   0.0289782\n",
       " 0.00061274   0.00338146   7.65421e-5      0.00573657   0.0041428\n",
       " 0.00289619   0.00285391   0.0015101    …  0.0189902    0.0051334\n",
       " 0.00111448   0.00105194   0.00196992      0.0385042    0.00469047\n",
       " 0.00320821   0.0031634    0.000789022     0.00632007   0.0189397\n",
       " 0.00353118   0.00178417   0.00328049      0.00443618   0.0150506\n",
       " 0.00386053   0.00198491   0.000233732     0.0142962    0.0144748"
      ]
     },
     "execution_count": 3,
     "metadata": {},
     "output_type": "execute_result"
    }
   ],
   "source": [
    "   u =  MiCRM.Parameters.modular_uptake(M,N; N_modules = 2, s_ratio = 10.0)"
   ]
  },
  {
   "cell_type": "markdown",
   "id": "dbdbe119-4f97-44a7-8509-db4120c0f569",
   "metadata": {},
   "source": [
    "<span style=\"color:gray\">MiCRM.Parameters.modular_uptake</span> helps generate an uptake matrix using a Dirichlet distribution such that the uptake of all consumers sums to 1.\n",
    "The number of modules determines how many groups of resources the consumers are specialised over. For example if N_modules = 2 then the resources will be split into two groups with half the consumers specialising on one and half on the other.\n",
    "\n",
    "The degree of specialisation is determined by the s_ratio value. This controls the relative value of the dirchlet α parameters which determine how the probabiltiy density function is distributed over the different resources. Specialisation is obtained by setting the α values for resources that specialists consume to higher values meaning they have a higher probablity of a larger value. When s_ratio = 1 the proabailtiy is uniform and all resources are equally likely to be consumed. When s_ratio >1 then consumers are more likely to consume resources within thier module."
   ]
  },
  {
   "cell_type": "markdown",
   "id": "ce46934a-ac92-46a9-a31c-c74b5812cdb2",
   "metadata": {},
   "source": [
    "Define other terms"
   ]
  },
  {
   "cell_type": "code",
   "execution_count": 4,
   "id": "bf92674e-7c58-4be1-9046-4cd2cd5a4c3f",
   "metadata": {},
   "outputs": [
    {
     "data": {
      "text/plain": [
       "([1.0, 1.0, 1.0, 1.0, 1.0, 1.0, 1.0, 1.0, 1.0, 1.0  …  1.0, 1.0, 1.0, 1.0, 1.0, 1.0, 1.0, 1.0, 1.0, 1.0], [1.0, 1.0, 1.0, 1.0, 1.0, 1.0, 1.0, 1.0, 1.0, 1.0  …  1.0, 1.0, 1.0, 1.0, 1.0, 1.0, 1.0, 1.0, 1.0, 1.0])"
      ]
     },
     "execution_count": 4,
     "metadata": {},
     "output_type": "execute_result"
    }
   ],
   "source": [
    "   #cost term\n",
    "   m = ones(N)\n",
    "\n",
    "   #resource inflow + outflow\n",
    "   ρ,ω = ones(M),ones(M)"
   ]
  },
  {
   "cell_type": "markdown",
   "id": "0b5db8f5-aeb4-4830-88d2-15b8be6b307e",
   "metadata": {},
   "source": [
    "m is a loss term for the the consumers; ρ and ω are inflow rate and outflow rate for the resource respectively."
   ]
  },
  {
   "cell_type": "markdown",
   "id": "1f8e066e-dddf-4cec-8d0d-83118e6a4e95",
   "metadata": {},
   "source": [
    "Make leakage matrix out of dirichlet distribution and make it modular"
   ]
  },
  {
   "cell_type": "code",
   "execution_count": 5,
   "id": "e386fe45-8420-4545-b405-316e3c114d7e",
   "metadata": {},
   "outputs": [
    {
     "data": {
      "text/plain": [
       "50×50 Matrix{Float64}:\n",
       " 0.00236767  0.00707186   0.00482691   …  0.010215    0.00825083  0.00129627\n",
       " 0.00225891  0.010467     0.0112036       0.00742818  0.0121214   0.00818068\n",
       " 0.00552296  0.0056489    0.00957735      0.00801503  0.00890253  0.007585\n",
       " 0.00371305  0.00233981   0.0102374       0.0035955   0.00761503  0.0129087\n",
       " 0.00323117  0.0098897    0.00289703      0.00557908  0.00525277  0.000686345\n",
       " 0.0102434   0.00997235   0.0070545    …  0.00471792  0.0033593   0.00120622\n",
       " 0.0120573   0.00760947   0.00493816      0.00820794  0.00506066  0.00437889\n",
       " 0.00721244  0.00999924   0.000681733     0.00644288  0.0123163   0.00200691\n",
       " 0.00305751  0.00415367   0.00779058      0.00170265  0.0100492   0.00413012\n",
       " 0.00938162  0.00719782   0.00875381      0.00443969  0.01089     0.00809999\n",
       " 0.00705124  0.00167254   0.00642315   …  0.00116745  0.00277325  0.00667154\n",
       " 0.00193507  0.0077338    0.00836205      0.00322352  0.014806    0.000837355\n",
       " 0.00523006  0.00745684   0.0102029       0.00431155  0.0015866   0.00486878\n",
       " ⋮                                     ⋱                          \n",
       " 0.00109577  5.67908e-5   0.00141166      0.0188456   0.0128515   0.0129556\n",
       " 0.00218789  0.000438671  0.000133129     0.00236663  0.00988043  0.0205485\n",
       " 0.00240003  6.3051e-5    0.00117251   …  0.015315    0.00909227  0.017328\n",
       " 0.00227223  0.000627737  0.00151201      0.0216092   0.0117299   0.0158682\n",
       " 0.00160903  0.0010145    0.00256378      0.00889181  0.0233416   0.00459368\n",
       " 0.00239373  0.00292296   0.00233131      0.0111475   0.00641717  0.00287698\n",
       " 0.00158     0.000405911  0.000533525     0.0219818   0.0156828   0.0159229\n",
       " 0.0018102   0.00181479   0.0011126    …  0.00269147  0.00530617  0.0074618\n",
       " 0.00228028  0.00122441   1.02344e-5      0.0133623   0.0192101   0.00460386\n",
       " 0.00118338  0.00215742   0.00181391      0.016756    0.0152482   0.000130839\n",
       " 8.87737e-5  4.22031e-5   0.00265627      0.0222198   0.00281666  0.0128017\n",
       " 0.00108735  0.000740995  9.15672e-5      0.014077    0.00166823  0.00328112"
      ]
     },
     "execution_count": 5,
     "metadata": {},
     "output_type": "execute_result"
    }
   ],
   "source": [
    "   l = MiCRM.Parameters.modular_leakage(M; N_modules = 2, s_ratio = 10.0, λ = leakage)"
   ]
  },
  {
   "cell_type": "markdown",
   "id": "86e26e62-2e45-4628-8899-761e3b1077a4",
   "metadata": {},
   "source": [
    "<span style=\"color:gray\">`MiCRM.Parameters.modular_leakage`</span> generates a modular leakage matrix with a directional leakage structure. The matrix is generated using a Dirichlet distribution such that the leakage of all resources sums to λ.\n",
    "\n",
    "The number of modules determines how many groups of resources they are split into. For example if N_modules = 5 then the resources will be split into five groups with the first group of resources tending to leak to the second, the second to the third and so on.\n",
    "\n",
    "The degree of to which resources leak in this constrained way (verses randomly across all resources) is determined by the s_ratio value. This controls the relative value of the dirchlet α parameters which determine how the probabiltiy density function is distributed over the different resources. A greater probabiltiy of leakage from one resource to another is obtained by setting the α values for resources to higher values. When s_ratio = 1 the proabailtiy is uniform and all resources are equally likely to be leaked to each other. When s_ratio >1 then resources are more likely to leak to resources thier own or the next module in the sequence."
   ]
  },
  {
   "cell_type": "markdown",
   "id": "e7ef01d4-d097-45ec-a5a8-0bd1c55610cf",
   "metadata": {},
   "source": [
    "Set original state of the system and solve it"
   ]
  },
  {
   "cell_type": "code",
   "execution_count": 6,
   "id": "d16e10e5-bc21-4a1b-8fcf-c2e77fea30fe",
   "metadata": {},
   "outputs": [
    {
     "data": {
      "text/plain": [
       "\u001b[38;2;86;182;194mODEProblem\u001b[0m with uType \u001b[38;2;86;182;194mVector{Float64}\u001b[0m and tType \u001b[38;2;86;182;194mFloat64\u001b[0m. In-place: \u001b[38;2;86;182;194mtrue\u001b[0m\n",
       "timespan: (0.0, 10.0)\n",
       "u0: 150-element Vector{Float64}:\n",
       " 1.0\n",
       " 1.0\n",
       " 1.0\n",
       " 1.0\n",
       " 1.0\n",
       " 1.0\n",
       " 1.0\n",
       " 1.0\n",
       " 1.0\n",
       " 1.0\n",
       " 1.0\n",
       " 1.0\n",
       " 1.0\n",
       " ⋮\n",
       " 1.0\n",
       " 1.0\n",
       " 1.0\n",
       " 1.0\n",
       " 1.0\n",
       " 1.0\n",
       " 1.0\n",
       " 1.0\n",
       " 1.0\n",
       " 1.0\n",
       " 1.0\n",
       " 1.0"
      ]
     },
     "execution_count": 6,
     "metadata": {},
     "output_type": "execute_result"
    }
   ],
   "source": [
    "   #define parameters\n",
    "   param = MiCRM.Parameters.generate_params(N, M;  u = u, m = m, ρ = ρ, ω = ω, l = l, λ = leakage)\n",
    "   \n",
    "   #original state\n",
    "   x0 = ones(N+M)\n",
    "   #time span\n",
    "   tspan = (0.0, 10.0)\n",
    "\n",
    "   #define problem\n",
    "   using DifferentialEquations\n",
    "   prob = ODEProblem(MiCRM.Simulations.dx!, x0, tspan, param)\n",
    "   "
   ]
  },
  {
   "cell_type": "markdown",
   "id": "16dc0295-a56f-46e7-a32f-3639d976abdd",
   "metadata": {},
   "source": [
    "create an ODEProblem object which defines the problem for the ODE solver and then solve it with the aptly named solve function.\n",
    "To define the ODEProblem we need to specify the initial state of the system as well as the timespan"
   ]
  },
  {
   "cell_type": "code",
   "execution_count": 7,
   "id": "6ec96a8b-8a7b-4c75-b753-578edef217a6",
   "metadata": {},
   "outputs": [
    {
     "data": {
      "text/plain": [
       "retcode: Success\n",
       "Interpolation: specialized 4th order \"free\" interpolation\n",
       "t: 17-element Vector{Float64}:\n",
       "  0.0\n",
       "  0.08349282713382426\n",
       "  0.21793651628353833\n",
       "  0.3778294892447818\n",
       "  0.5869204587569905\n",
       "  0.8410546468729772\n",
       "  1.1602406529574516\n",
       "  1.5511013101274185\n",
       "  2.0294609084124686\n",
       "  2.5987665113973404\n",
       "  3.2720407119533235\n",
       "  4.063519181677232\n",
       "  4.997140691603409\n",
       "  6.103851758938936\n",
       "  7.422459171604166\n",
       "  8.967548970268178\n",
       " 10.0\n",
       "u: 17-element Vector{Vector{Float64}}:\n",
       " [1.0, 1.0, 1.0, 1.0, 1.0, 1.0, 1.0, 1.0, 1.0, 1.0  …  1.0, 1.0, 1.0, 1.0, 1.0, 1.0, 1.0, 1.0, 1.0, 1.0]\n",
       " [0.9722227059326333, 0.972007295112164, 0.9722097547397758, 0.972020887630998, 0.9721967272335128, 0.972009159460745, 0.971871064699027, 0.9720970886253382, 0.9721417656599199, 0.9721958521717302  …  0.8649448893959677, 0.8770805271015476, 0.9223172670890349, 0.9312862710033691, 0.8974895990578442, 0.888226246495523, 0.881162082707563, 0.8901085119879929, 0.8751996101634885, 0.9262852237207305]\n",
       " [0.9191193221812958, 0.9179840964149656, 0.9190529985424315, 0.9180712783496686, 0.9189857531628933, 0.9179961369734986, 0.917276327593306, 0.9184597272866744, 0.918695303984619, 0.9189717228655058  …  0.7125624184838641, 0.7352312658489837, 0.8233878462882727, 0.8411731522021166, 0.774508838075079, 0.7566139241068085, 0.7431588893036963, 0.7601534549078692, 0.7316149614355474, 0.8315127023387553]\n",
       " [0.8492780777278897, 0.8467467498483081, 0.8491346608567187, 0.84697437869242, 0.8489868512580026, 0.8467774159221991, 0.8451910593278151, 0.8478121106856402, 0.8483375637139207, 0.8489349434954415  …  0.6020568992595722, 0.6293868186623425, 0.7402885902823727, 0.7630659915554254, 0.6781753058690075, 0.6558673533295594, 0.6393423935737698, 0.6601655074525135, 0.6249119880223634, 0.7510130437813353]\n",
       " [0.7565597008967466, 0.7523510651098541, 0.7563292509250674, 0.7527838848602556, 0.7560852745224138, 0.7524065118888652, 0.7498026434590587, 0.7541295272526156, 0.7550032176637432, 0.7559642921785196  …  0.5267163441758198, 0.5547630323392235, 0.6734571891190552, 0.698281426552258, 0.6063205442658796, 0.5826692846584354, 0.5654204117807307, 0.587110610838854, 0.5500674881553561, 0.685483787802415]\n",
       " [0.6511545790603235, 0.6454820995411482, 0.6508538607553808, 0.6461267359758086, 0.6505247522001076, 0.6455594278653404, 0.6420922002853299, 0.6478862689391564, 0.6490636427744952, 0.6503213729024001  …  0.4922112586327383, 0.518731251932991, 0.6345705008621563, 0.6591467639845823, 0.5685575276494361, 0.5456515905671859, 0.5291581065036415, 0.549864143624224, 0.51423248900056, 0.646740470653598]\n",
       " [0.5367948395004049, 0.5301187343870744, 0.5364507147547932, 0.5309331330719396, 0.5360607640009678, 0.5302093159454608, 0.5261730039660614, 0.5329535000024688, 0.534338709946973, 0.5357834409820438  …  0.4916989497387389, 0.5160401388211505, 0.6240898486129195, 0.6472016419244244, 0.5622681056606205, 0.541002559456494, 0.5258104481725022, 0.5448529365553049, 0.5119000101818337, 0.6356972148439366]\n",
       " [0.42473995126030145, 0.4176789153195548, 0.4243830585998222, 0.41857761638816404, 0.42396688607080457, 0.41777152634743503, 0.41353995234881036, 0.42067907861563075, 0.42214357162118293, 0.42364688744539786  …  0.5190710109407478, 0.5414494442618722, 0.6405911358526473, 0.6618061648856975, 0.5838706992348424, 0.5643740541231146, 0.5504684083393678, 0.5678665005564335, 0.5376696309327617, 0.6513073780484975]\n",
       " [0.3224673536374165, 0.31560114525497296, 0.32212351489639324, 0.31649113761124065, 0.32171556318200245, 0.3156864921391857, 0.3115985238542543, 0.318517297304755, 0.3199408707254746, 0.32139160359507174  …  0.5674982487949197, 0.588218659583858, 0.678539996438284, 0.6977455861881523, 0.6270454870521847, 0.6092378643630572, 0.596492545179905, 0.6124013301737732, 0.5847645761762673, 0.688234442025246]\n",
       " [0.2370233897864666, 0.23078528362928263, 0.2367107278370324, 0.23159280733039905, 0.23633819989329352, 0.23085788137270874, 0.22716023576938532, 0.23343130130476966, 0.23472431595429724, 0.23604277836839113  …  0.6289607839494784, 0.6480645837150255, 0.7293978621578143, 0.7465139159330262, 0.6832797452551991, 0.6671715978329459, 0.6555712398844055, 0.6700100916371602, 0.6449293068128448, 0.7379996792931118]\n",
       " [0.1693546474273169, 0.1640034857022322, 0.16908408756051563, 0.16468559213069942, 0.16876384918891707, 0.16406124905795572, 0.16089830727568366, 0.16626903541224247, 0.16737803689135072, 0.16851613169637586  …  0.6964962585142148, 0.7136936584536159, 0.7850414116483886, 0.7998779572571756, 0.7448358670902528, 0.7306316047658936, 0.7203320410098942, 0.733111805206493, 0.7109166389032294, 0.7924540650325501]\n",
       " [0.11798975268471129, 0.11363294578614858, 0.11776644322796953, 0.11417474889384102, 0.11750571281661154, 0.11367617999546081, 0.1111055047802208, 0.11547339069504273, 0.1163762539464307, 0.1173121064063518  …  0.7636593184098878, 0.778512154888038, 0.8385837691013921, 0.8509269568395665, 0.804943655874491, 0.7929226173181629, 0.7841498122777497, 0.7949997061278085, 0.7761520587075661, 0.8447130643161489]\n",
       " [0.07996402278080525, 0.07660011765522656, 0.0797888477668809, 0.07700610577581614, 0.07958775487373605, 0.07663052357146743, 0.07464784473086075, 0.07801774645148071, 0.07871483985841056, 0.07944586962484217  …  0.825510096545163, 0.8376372180796006, 0.8855222393218538, 0.8952514052942291, 0.8588662030080849, 0.8492381925098315, 0.8421722243430072, 0.8508825871019271, 0.8357403640639886, 0.8903250988989988]\n",
       " [0.05238530195762006, 0.049935620247863646, 0.05225568815199173, 0.05022206979253192, 0.052109444130183605, 0.04995563495555981, 0.04851274221043485, 0.050965564455412206, 0.05147321393012477, 0.05201187134007179  …  0.8785114197188536, 0.8877553620532156, 0.9234665474902404, 0.9306494458838033, 0.9036957223044895, 0.8964852424725236, 0.8911688635188129, 0.8977018181435386, 0.8863310729928299, 0.9269931496207001]\n",
       " [0.032826432674506155, 0.031159703714145833, 0.03273697032299387, 0.03134882237274282, 0.03263757990956761, 0.031171976941601016, 0.030190623262184402, 0.031858985682552216, 0.03220439344135616, 0.03257483320335857  …  0.9207866716278523, 0.9272878591678752, 0.9519287099093756, 0.9568425477992714, 0.938351740312304, 0.933358892725176, 0.9296642406947385, 0.9341912852370625, 0.9262998442287641, 0.9543296235817487]\n",
       " [0.019595665164099794, 0.018539618578569048, 0.019538323353622367, 0.018656433609610563, 0.019475394516622196, 0.018546676256787742, 0.017925008406448856, 0.018981926398157697, 0.019200784924754938, 0.019437543716600027  …  0.9515956795600361, 0.9558026915574814, 0.971505286799507, 0.9746157307085039, 0.9628863058144516, 0.9596958672582759, 0.9573288760525714, 0.9602221692162978, 0.9551706580891649, 0.9730190441729135]\n",
       " [0.014050367710691472, 0.013273244247125785, 0.014007944787326695, 0.013358162858417164, 0.013961648456388318, 0.013278182900894789, 0.012820739180921907, 0.013598467933508104, 0.01375952407050813, 0.013934456335721754  …  0.9649895509853879, 0.9681119486210256, 0.9796817228040451, 0.9819664168355707, 0.9733426674951902, 0.970988968932646, 0.969240797491041, 0.9713752190964281, 0.9676454853314739, 0.980791450391666]"
      ]
     },
     "execution_count": 7,
     "metadata": {},
     "output_type": "execute_result"
    }
   ],
   "source": [
    "   sol = solve(prob, Tsit5())"
   ]
  },
  {
   "cell_type": "markdown",
   "id": "470325a8-b6fe-42c6-bff3-f47f16db7e13",
   "metadata": {},
   "source": [
    "In this case, we use Tsit5 as a solver, which is widely applicable for non-stiff problems.\n",
    "If need more information about the solver choice, refer to https://docs.sciml.ai/DiffEqDocs/stable/solvers/ode_solve/"
   ]
  },
  {
   "cell_type": "markdown",
   "id": "d630276c-be81-48c3-ba8e-7bba09aca5c7",
   "metadata": {},
   "source": [
    "Calculate key properties"
   ]
  },
  {
   "cell_type": "code",
   "execution_count": 8,
   "id": "4b361994-3824-48db-b60f-85e3e359b795",
   "metadata": {},
   "outputs": [
    {
     "data": {
      "text/plain": [
       "-0.3184907555897299"
      ]
     },
     "execution_count": 8,
     "metadata": {},
     "output_type": "execute_result"
    }
   ],
   "source": [
    "   # jacobian of system from the solution object\n",
    "   J = MiCRM.Analysis.get_jac(sol)\n",
    "   # generate purbulence matrix\n",
    "   pur = rand(size(J, 1))\n",
    "   # the instantaneous rate of growth of the perturbation pur at time t.\n",
    "   t = 5\n",
    "   MiCRM.Analysis.get_Rins(J, pur, t)\n",
    "   # Determine the stability a system given its jaccobian by testing if the real part of the leading eigenvalue is positive.\n",
    "   MiCRM.Analysis.get_stability(J)\n",
    "   #test whether a system is reactive to the perturbation \n",
    "   MiCRM.Analysis.get_reactivity(J,pur)\n",
    "   #get the rate of return of the system from perturbation\n",
    "   MiCRM.Analysis.get_return_rate(J)"
   ]
  },
  {
   "cell_type": "markdown",
   "id": "d16ac5ff-2e7f-4d21-a3c1-47aec3401c43",
   "metadata": {},
   "source": [
    "visualization"
   ]
  }
 ],
 "metadata": {
  "kernelspec": {
   "display_name": "Julia 1.11.3",
   "language": "julia",
   "name": "julia-1.11"
  },
  "language_info": {
   "file_extension": ".jl",
   "mimetype": "application/julia",
   "name": "julia",
   "version": "1.11.3"
  }
 },
 "nbformat": 4,
 "nbformat_minor": 5
}
