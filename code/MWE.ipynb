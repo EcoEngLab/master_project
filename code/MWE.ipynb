{
 "cells": [
  {
   "cell_type": "markdown",
   "id": "9ff0091b",
   "metadata": {},
   "source": [
    "## **Context**"
   ]
  },
  {
   "cell_type": "markdown",
   "id": "22ef7baf-8123-4426-b081-d67d9243eb5b",
   "metadata": {},
   "source": [
    "1. **Project background**：\n",
    "This project is part of a big new program titled ‘A new Green Revolution: Manipulating the soil microbiome to enhance the sustainability of 21st century agriculture,’. The current focus is to optimise/engineer soil microbiomes to suppress the fungus Gaeumannomyces tritici, which causes the take-all disease in wheat (T. aestivum).\n",
    "\n",
    "2. **Microbial community coalescence**：\n",
    "It is the process by which two distinct microbial communities encounter one another and interact to form a new ‘daughter’ community. This assemblage may more closely resemble one ‘parent’ community than the other, and its functional profile may be totally unique. We plan to use a coalescence method to create new community to fight against take-all disease.\n"
   ]
  },
  {
   "cell_type": "markdown",
   "id": "b75775ee-46ca-4738-aa8d-5ef7572ea4d8",
   "metadata": {},
   "source": [
    "## **Obectives**"
   ]
  },
  {
   "cell_type": "markdown",
   "id": "5758e3ec",
   "metadata": {},
   "source": [
    "**Can we predict winners and losers during coalescence?**\n",
    "\n",
    "This very basic question remains relatively un-explored. However, we did have some insights on community assembly. That is, species with higher CUE value tend to survive. And there is certain connection between species richness and CUE variance.\n",
    "\n",
    "We will use the similiar methdology as community assembly to simulate the community dynamics during coalescence, mediated by temperature. By doing that, we hope to predict the result of community coalescence through Carbon usage efficiency appearance of species in different temperature. The outcome of this research will give some foundamental information for the coalescence experiments and the dealing with take-all disease project."
   ]
  },
  {
   "cell_type": "markdown",
   "id": "a915eba0-bbf5-4a56-8cbc-aade80a0238d",
   "metadata": {},
   "source": [
    "**Microbial Consumer Resource Model**"
   ]
  },
  {
   "cell_type": "markdown",
   "id": "c5f29a22",
   "metadata": {},
   "source": [
    "$$\n",
    "\\frac{dC_i}{dt} = \\sum_{\\alpha=0}^{M} C_i R_{\\alpha} u_{i\\alpha} (1 - \\lambda_{\\alpha}) - C_i m_i\n",
    "$$\n",
    "\n",
    "$$\n",
    "\\frac{dR_{\\alpha}}{dt} = \\rho_{\\alpha} - R_{\\alpha} \\omega_{\\alpha} - \\sum_{i=0}^{N} C_i R_{\\alpha} u_{i\\alpha} + \\sum_{i=0}^{N} \\sum_{\\beta=0}^{M} C_i R_{\\beta} u_{i\\beta} l_{\\beta\\alpha}\n",
    "$$\n"
   ]
  },
  {
   "cell_type": "markdown",
   "id": "38de6499-e083-4fb1-8385-08cba4df9d1d",
   "metadata": {},
   "source": [
    "| **Parameter** | **Description** | **Key** |\n",
    "|--------------|---------------|--------|\n",
    "| $C_i$ | Biomass of the $i$th consumer | - |\n",
    "| $R_{\\alpha}$ | Mass of the $\\alpha$th resource | - |\n",
    "| $N$ | Number of consumer populations | $N$ |\n",
    "| $M$ | Number of resources | $M$ |\n",
    "| $u_{i\\alpha}$ | Uptake rate of the $\\alpha$th resource by the $i$th consumer | $u$ |\n",
    "| $m_i$ | Loss term for the $i$th consumer | $m$ |\n",
    "| $\\rho_{\\alpha}$ | Inflow rate for the $\\alpha$th resource | $\\rho$ |\n",
    "| $\\omega_{\\alpha}$ | Outflow term for the $j$th resource | $\\omega$ |\n",
    "| $l_{\\alpha\\beta}$ | Proportion of uptake of the $\\alpha$th resource leaked to the $\\beta$th resource. | $l$ |\n",
    "| $\\lambda_{\\alpha}$ | Total proportion of the $\\alpha$th resource leaked, same as $\\sum_{\\beta} l_{\\alpha\\beta}$ | $\\lambda$ |\n"
   ]
  },
  {
   "cell_type": "markdown",
   "id": "37c06982-a9ca-4006-8926-5fd27604c767",
   "metadata": {},
   "source": [
    "We adapt this model because it is able to capture the complex interactions of both competition for resources and the exchange of metabolic by-products."
   ]
  },
  {
   "cell_type": "markdown",
   "id": "0f191451",
   "metadata": {},
   "source": [
    "## **Simulation:**"
   ]
  },
  {
   "cell_type": "markdown",
   "id": "04e09154-3f6e-497c-9684-23605d9d8419",
   "metadata": {},
   "source": [
    "Import the packages"
   ]
  },
  {
   "cell_type": "code",
   "execution_count": null,
   "id": "a6314417-d8c9-4139-a975-f7639417f210",
   "metadata": {},
   "outputs": [],
   "source": [
    "using Pkg\n",
    "Pkg.activate(\"../packages\")"
   ]
  },
  {
   "cell_type": "markdown",
   "id": "036b2855-d01d-4173-91b5-142a00dfa49e",
   "metadata": {},
   "source": [
    "create an independent environment to avoid the conflicts"
   ]
  },
  {
   "cell_type": "code",
   "execution_count": null,
   "id": "14def21f-27f0-467f-972f-dbceb4fc479b",
   "metadata": {},
   "outputs": [],
   "source": [
    "using Distributions"
   ]
  },
  {
   "cell_type": "markdown",
   "id": "06b099a2-1783-4c58-8a93-f804234300fc",
   "metadata": {},
   "source": [
    "`Distributions` is a package for probability distributions and associated functions. We need it to use dirichlet distribution for uptake matrix and leakage matrix"
   ]
  },
  {
   "cell_type": "code",
   "execution_count": null,
   "id": "cb4b43ff-768b-470d-92ae-250d00ce8a4f",
   "metadata": {},
   "outputs": [],
   "source": [
    "using MiCRM"
   ]
  },
  {
   "cell_type": "markdown",
   "id": "26dad405-d8c5-443e-aa7f-d423aa960d64",
   "metadata": {},
   "source": [
    "`MiCRM` is the package for Simulation of Microbial Consumer Resource (MiCRM) systems. "
   ]
  },
  {
   "cell_type": "markdown",
   "id": "015723d8-f0ba-4ee2-85b2-1f77e7035b28",
   "metadata": {},
   "source": [
    "Now we  *set system size and leakage rate*"
   ]
  },
  {
   "cell_type": "code",
   "execution_count": null,
   "id": "5af7fbe7-e7c5-45a4-b1ae-e4cde275520f",
   "metadata": {},
   "outputs": [],
   "source": [
    "N,M,leakage = 100,50,0.3"
   ]
  },
  {
   "cell_type": "markdown",
   "id": "71161959-1ce3-4ee1-b259-52dfe58081a9",
   "metadata": {},
   "source": [
    "N is the **number of species in a community**, M is the **number of resource types**, leakage is the overall leakage rate"
   ]
  },
  {
   "cell_type": "markdown",
   "id": "391e95fe-1357-42f2-8670-23945fadf4c7",
   "metadata": {},
   "source": [
    "Next, *make uptake matrix out of dirichlet distribution*"
   ]
  },
  {
   "cell_type": "code",
   "execution_count": null,
   "id": "e410cadc-c777-47c6-853e-bfac3f94cf57",
   "metadata": {},
   "outputs": [],
   "source": [
    "u =  MiCRM.Parameters.modular_uptake(M,N; N_modules = 2, s_ratio = 10.0)"
   ]
  },
  {
   "cell_type": "markdown",
   "id": "40d05756-bc64-43dc-8031-5845c6e16183",
   "metadata": {},
   "source": [
    "The N_modules determines how many the different blocks of resources will be divided into, and s_ratio determines how much will species focus on intra-group resources. *More details about this function see document of functions"
   ]
  },
  {
   "cell_type": "markdown",
   "id": "ce46934a-ac92-46a9-a31c-c74b5812cdb2",
   "metadata": {},
   "source": [
    "*Define other terms*"
   ]
  },
  {
   "cell_type": "code",
   "execution_count": null,
   "id": "bf92674e-7c58-4be1-9046-4cd2cd5a4c3f",
   "metadata": {},
   "outputs": [],
   "source": [
    "#cost term\n",
    "m = ones(N)"
   ]
  },
  {
   "cell_type": "markdown",
   "id": "0b5db8f5-aeb4-4830-88d2-15b8be6b307e",
   "metadata": {},
   "source": [
    "m is a loss term for the the consumers, usually refer to the maintenance; "
   ]
  },
  {
   "cell_type": "code",
   "execution_count": null,
   "id": "e386fe45-8420-4545-b405-316e3c114d7e",
   "metadata": {},
   "outputs": [],
   "source": [
    "#resource inflow + outflow\n",
    "ρ,ω = ones(M),ones(M)"
   ]
  },
  {
   "cell_type": "markdown",
   "id": "1f8e066e-dddf-4cec-8d0d-83118e6a4e95",
   "metadata": {},
   "source": [
    "ρ is the resource inflow of the system and ω is outflow."
   ]
  },
  {
   "cell_type": "markdown",
   "id": "e0134f07-5553-414d-9b56-122279730209",
   "metadata": {},
   "source": [
    "Next, we *make leakage matrix out of dirichlet distribution and make it modular*"
   ]
  },
  {
   "cell_type": "code",
   "execution_count": null,
   "id": "7b9e96cb-bf9a-452a-9194-b34c68d0eee6",
   "metadata": {},
   "outputs": [],
   "source": [
    "l = MiCRM.Parameters.modular_leakage(M; N_modules = 2, s_ratio = 10.0, λ = leakage)"
   ]
  },
  {
   "cell_type": "markdown",
   "id": "6a841913-f0ad-4db2-9cc5-cef1ad22ce51",
   "metadata": {},
   "source": [
    "Similarly to the `MiCRM.Parameters.modular_uptake`, the N_modules determines how many the different blocks of resources will be divided into, and s_ratio determines the structure and probability of leakage."
   ]
  },
  {
   "cell_type": "code",
   "execution_count": null,
   "id": "d16e10e5-bc21-4a1b-8fcf-c2e77fea30fe",
   "metadata": {},
   "outputs": [],
   "source": [
    "#define parameters\n",
    "param = MiCRM.Parameters.generate_params(N, M;  u = u, m = m, ρ = ρ, ω = ω, l = l, λ = leakage)"
   ]
  },
  {
   "cell_type": "markdown",
   "id": "818a8e37-7f21-463a-bfa7-8eef56ee7afa",
   "metadata": {},
   "source": [
    "We use this function to aggregate the parameters of the system. If only with N, M, and λ, this function will help generate other parameters by default (randomly)."
   ]
  },
  {
   "cell_type": "markdown",
   "id": "16dc0295-a56f-46e7-a32f-3639d976abdd",
   "metadata": {},
   "source": [
    "For now, we finished the parameter part and it is time to create an **Ordinary Differential Equation Problem** object which defines the problem for the ODE solver and then solve it with the aptly solve function.\n",
    "To define the ODEProblem we need to specify the initial state of the system as well as the timespan"
   ]
  },
  {
   "cell_type": "code",
   "execution_count": null,
   "id": "a21713f4-f7b6-4853-b7ba-950ad6f80f5b",
   "metadata": {},
   "outputs": [],
   "source": [
    "#original state\n",
    "x0 = ones(N+M)"
   ]
  },
  {
   "cell_type": "markdown",
   "id": "ecd317c6-ebcb-45f6-83f0-baa4a07984b3",
   "metadata": {},
   "source": [
    "x0 is an initial state, a one-dimensional array (vector) of length N+M, where all elements are initialized to 1.  \n",
    "This represents the initial state of the system with N consumer populations and M resource types."
   ]
  },
  {
   "cell_type": "code",
   "execution_count": null,
   "id": "4dfd2569-2bba-4eb6-be04-63d02e901ee3",
   "metadata": {},
   "outputs": [],
   "source": [
    "#time span\n",
    "tspan = (0.0, 10.0)"
   ]
  },
  {
   "cell_type": "markdown",
   "id": "ae42b37c-f1e1-48c6-bc30-0efc8c9f6af7",
   "metadata": {},
   "source": [
    "The initial time is 0.0 and the final time is 10.0"
   ]
  },
  {
   "cell_type": "code",
   "execution_count": null,
   "id": "316ae75f-2bde-4bc5-a52d-1a1119cd00fa",
   "metadata": {},
   "outputs": [],
   "source": [
    "#define problem\n",
    "using DifferentialEquations\n",
    "prob = ODEProblem(MiCRM.Simulations.dx!, x0, tspan, param)"
   ]
  },
  {
   "cell_type": "markdown",
   "id": "5944ccc0-7308-46dc-b866-1dbc428c9004",
   "metadata": {},
   "source": [
    "We import the `DifferentialEquations.jl` package, which provides tools for solving differential equations.  \n",
    "`MiCRM.Simulations.dx!` function is adopted to define the ODE problem, with initial conditions `x0`, time span `tspan`, and parameters `param` for numerical solving."
   ]
  },
  {
   "cell_type": "code",
   "execution_count": null,
   "id": "6ec96a8b-8a7b-4c75-b753-578edef217a6",
   "metadata": {},
   "outputs": [],
   "source": [
    "sol = solve(prob, Tsit5())"
   ]
  },
  {
   "cell_type": "markdown",
   "id": "470325a8-b6fe-42c6-bff3-f47f16db7e13",
   "metadata": {},
   "source": [
    "In this case, we use Tsit5 as a solver, which is widely applicable for non-stiff problems.\n",
    "If need more information about the solver choice, refer to https://docs.sciml.ai/DiffEqDocs/stable/solvers/ode_solve/"
   ]
  },
  {
   "cell_type": "markdown",
   "id": "d630276c-be81-48c3-ba8e-7bba09aca5c7",
   "metadata": {},
   "source": [
    "At last, we *calculate key properties* to determine whether the system is stable"
   ]
  },
  {
   "cell_type": "code",
   "execution_count": null,
   "id": "4b361994-3824-48db-b60f-85e3e359b795",
   "metadata": {},
   "outputs": [],
   "source": [
    "# jacobian of system from the solution object\n",
    "J = MiCRM.Analysis.get_jac(sol)"
   ]
  },
  {
   "cell_type": "markdown",
   "id": "75e4abd2-3ca8-4dbb-85b5-4cae25c234a1",
   "metadata": {},
   "source": [
    "`MiCRM.Analysis.get_jac(sol)` numerically calculate jacobian of system from the solution object. The Jacobian matrix (J) is a matrix of partial derivatives that represents the local linearization of a system of differential equations. The eigenvalues of J indicate whether equilibria are stable or unstable."
   ]
  },
  {
   "cell_type": "code",
   "execution_count": null,
   "id": "da5d8167-3541-45c1-a3d0-b95c44dab8f5",
   "metadata": {},
   "outputs": [],
   "source": [
    "# generate purbulence matrix\n",
    "pur = rand(size(J, 1))"
   ]
  },
  {
   "cell_type": "markdown",
   "id": "d536fd5f-d3b6-4f71-9a63-0ec6b4e08590",
   "metadata": {},
   "source": [
    "Generates a random vector of length equal to the number of rows in J, with each element sampled from a uniform distribution between 0 and 1, which will be used to perturb the system for sensitivity or stability analysis"
   ]
  },
  {
   "cell_type": "code",
   "execution_count": null,
   "id": "85a1e23a-6336-42b8-93a7-451d96a0178c",
   "metadata": {},
   "outputs": [],
   "source": [
    "# the instantaneous rate of growth of the perturbation pur at time t.\n",
    "t = 5\n",
    "MiCRM.Analysis.get_Rins(J, pur, t)"
   ]
  },
  {
   "cell_type": "markdown",
   "id": "3c7225f9-b316-4433-909e-c31607b6e911",
   "metadata": {},
   "source": [
    "This function computes Instantaneous Resilience (Rins), which measures how quickly a system returns to equilibrium after a disturbance. If there is a positive value, that means the perturbation is growing, therefore the system is locally unstable. If it is negative, then the perturbation is shrinking."
   ]
  },
  {
   "cell_type": "code",
   "execution_count": null,
   "id": "9eb7ebf5-98ce-414c-8995-13bbaaee8024",
   "metadata": {},
   "outputs": [],
   "source": [
    "# Determine the stability a system\n",
    "MiCRM.Analysis.get_stability(J)"
   ]
  },
  {
   "cell_type": "markdown",
   "id": "0afec25a-8b8e-4c7e-aefa-12f91f4fac5c",
   "metadata": {},
   "source": [
    "Determine the stability a system given its jaccobian by testing if the real part of the leading eigenvalue is positive. It will return a boolean value."
   ]
  },
  {
   "cell_type": "code",
   "execution_count": null,
   "id": "3aac5fe3-67cb-4906-99b3-2801e8361c72",
   "metadata": {},
   "outputs": [],
   "source": [
    "#test whether a system is reactive to the perturbation \n",
    "MiCRM.Analysis.get_reactivity(J,pur)"
   ]
  },
  {
   "cell_type": "markdown",
   "id": "390be40b-e90a-4471-81b3-afddea792118",
   "metadata": {},
   "source": [
    "Test wether the system is \"reactive\" to the perturbation u. A reactive is system is one where the initial perturbation is amplified so that the deviation from equilibrium initially increases. It will also return a boolean value."
   ]
  },
  {
   "cell_type": "code",
   "execution_count": null,
   "id": "7c81b81c-d719-4190-a072-4ac0da57fc61",
   "metadata": {},
   "outputs": [],
   "source": [
    "#get the rate of return of the system from perturbation\n",
    "MiCRM.Analysis.get_return_rate(J)"
   ]
  },
  {
   "cell_type": "markdown",
   "id": "63fa70e2-eb82-49c4-8b31-23d5d8c5752e",
   "metadata": {},
   "source": [
    "Get the rate of return of the system from perturbation. This value is determined by the leading eigenvalue regardless of the direction of the perturbation or the observation vector we choose."
   ]
  },
  {
   "cell_type": "markdown",
   "id": "d16ac5ff-2e7f-4d21-a3c1-47aec3401c43",
   "metadata": {},
   "source": [
    "Visualization"
   ]
  },
  {
   "cell_type": "markdown",
   "id": "b813476f-a06c-4dbe-b971-388a18a2f28e",
   "metadata": {},
   "source": [
    "figures"
   ]
  },
  {
   "cell_type": "markdown",
   "id": "ef32ce1a-90f9-4bec-bb07-0e7a0669120b",
   "metadata": {},
   "source": [
    "## **Outputs and next step**"
   ]
  },
  {
   "cell_type": "markdown",
   "id": "fecdee04-3912-4bad-a660-339204c36344",
   "metadata": {},
   "source": [
    "Outputs: an assembled stable community, with the information of each species' resource uptake rate and each resources' leakage rate  \n",
    "Next step: coalescence. We plan to make two stable community respectively and give the traits of these two community to model as input to go through simulation for coalescence.  \n",
    "The problem is how to link these two community together to make them as a whole."
   ]
  },
  {
   "cell_type": "markdown",
   "id": "2356d532-b6eb-4c19-8337-138dfb3e509e",
   "metadata": {},
   "source": [
    "## **Documents of functions**"
   ]
  },
  {
   "cell_type": "markdown",
   "id": "dbdbe119-4f97-44a7-8509-db4120c0f569",
   "metadata": {},
   "source": [
    "**MiCRM.Parameters.modular_uptake**  \n",
    "`MiCRM.Parameters.modular_uptake(M,N; N_modules = 2, s_ratio = 10.0)`  \n",
    "It helps generate an uptake matrix using a Dirichlet distribution such that the uptake of all consumers sums to 1.\n",
    "The number of modules determines how many groups of resources the consumers are specialised over. For example if N_modules = 2 then the resources will be split into two groups with half the consumers specialising on one and half on the other.\n",
    "\n",
    "The degree of specialisation is determined by the s_ratio value. This controls the relative value of the dirchlet α parameters which determine how the probabiltiy density function is distributed over the different resources. Specialisation is obtained by setting the α values for resources that specialists consume to higher values meaning they have a higher probablity of a larger value. When s_ratio = 1 the proabailtiy is uniform and all resources are equally likely to be consumed. When s_ratio >1 then consumers are more likely to consume resources within thier module."
   ]
  },
  {
   "cell_type": "markdown",
   "id": "86e26e62-2e45-4628-8899-761e3b1077a4",
   "metadata": {},
   "source": [
    "**MiCRM.Parameters.modular_leakage**  \n",
    "```MiCRM.Parameters.modular_leakage(M; N_modules = 2, s_ratio = 10.0, λ = leakage)```  \n",
    "It generates a modular leakage matrix with a directional leakage structure. The matrix is generated using a Dirichlet distribution such that the leakage of all resources sums to λ.\n",
    "\n",
    "The number of modules determines how many groups of resources they are split into. For example if N_modules = 5 then the resources will be split into five groups with the first group of resources tending to leak to the second, the second to the third and so on.\n",
    "\n",
    "The degree of to which resources leak in this constrained way (verses randomly across all resources) is determined by the s_ratio value. This controls the relative value of the dirchlet α parameters which determine how the probabiltiy density function is distributed over the different resources. A greater probabiltiy of leakage from one resource to another is obtained by setting the α values for resources to higher values. When s_ratio = 1 the proabailtiy is uniform and all resources are equally likely to be leaked to each other. When s_ratio >1 then resources are more likely to leak to resources thier own or the next module in the sequence."
   ]
  },
  {
   "cell_type": "markdown",
   "id": "9a1c6883-99c1-4239-8d5e-ea671b1be10e",
   "metadata": {},
   "source": [
    "**MiCRM.Parameters.generate_params**  \n",
    "```MiCRM.Parameters.generate_params(N, M;  u = u, m = m, ρ = ρ, ω = ω, l = l, λ = leakage)```  \n",
    "It generates parameter sets for MiCRM simualtions. Requires the system size is defined as well as the functions to generate the actual parameters used in the simulations. Extra arguments can also be passed via the kwargs argument.By default the function generates a random MiCRM system with no structure and uptake and leakage matricies generated by Dirichlet distribitions.\n",
    "\n",
    "The function returns a NamedTuple with all the parameters as well as a kw entry which itself is a NamedTuple with the additional arguments provided."
   ]
  }
 ],
 "metadata": {
  "kernelspec": {
   "display_name": "Julia 1.11.2",
   "language": "julia",
   "name": "julia-1.11"
  },
  "language_info": {
   "file_extension": ".jl",
   "mimetype": "application/julia",
   "name": "julia",
   "version": "1.11.2"
  }
 },
 "nbformat": 4,
 "nbformat_minor": 5
}
