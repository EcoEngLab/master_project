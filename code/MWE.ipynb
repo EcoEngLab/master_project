{
 "cells": [
  {
   "cell_type": "markdown",
   "id": "b75775ee-46ca-4738-aa8d-5ef7572ea4d8",
   "metadata": {},
   "source": [
    "Import the packages"
   ]
  },
  {
   "cell_type": "code",
   "execution_count": null,
   "id": "a6314417-d8c9-4139-a975-f7639417f210",
   "metadata": {},
   "outputs": [],
   "source": [
    "   using Pkg\n",
    "   Pkg.activate(\"../packages\")\n",
    "   using Distributions\n",
    "   using MiCRM"
   ]
  },
  {
   "cell_type": "markdown",
   "id": "015723d8-f0ba-4ee2-85b2-1f77e7035b28",
   "metadata": {},
   "source": [
    "Set system size and leakage rate"
   ]
  },
  {
   "cell_type": "code",
   "execution_count": null,
   "id": "5af7fbe7-e7c5-45a4-b1ae-e4cde275520f",
   "metadata": {},
   "outputs": [],
   "source": [
    "   N,M,leakage = 100,50,0.3"
   ]
  },
  {
   "cell_type": "markdown",
   "id": "71161959-1ce3-4ee1-b259-52dfe58081a9",
   "metadata": {},
   "source": [
    "N is the number of species in a community, M is the number of resource types, leakage is the overall leakage rate"
   ]
  },
  {
   "cell_type": "markdown",
   "id": "391e95fe-1357-42f2-8670-23945fadf4c7",
   "metadata": {},
   "source": [
    "Make uptake matrix out of dirichlet distribution"
   ]
  },
  {
   "cell_type": "code",
   "execution_count": null,
   "id": "e410cadc-c777-47c6-853e-bfac3f94cf57",
   "metadata": {},
   "outputs": [],
   "source": [
    "   u =  MiCRM.Parameters.modular_uptake(M,N; N_modules = 2, s_ratio = 10.0)"
   ]
  },
  {
   "cell_type": "markdown",
   "id": "dbdbe119-4f97-44a7-8509-db4120c0f569",
   "metadata": {},
   "source": [
    "<span style=\"color:gray\">MiCRM.Parameters.modular_uptake</span> helps generate an uptake matrix using a Dirichlet distribution such that the uptake of all consumers sums to 1.\n",
    "The number of modules determines how many groups of resources the consumers are specialised over. For example if N_modules = 2 then the resources will be split into two groups with half the consumers specialising on one and half on the other.\n",
    "\n",
    "The degree of specialisation is determined by the s_ratio value. This controls the relative value of the dirchlet α parameters which determine how the probabiltiy density function is distributed over the different resources. Specialisation is obtained by setting the α values for resources that specialists consume to higher values meaning they have a higher probablity of a larger value. When s_ratio = 1 the proabailtiy is uniform and all resources are equally likely to be consumed. When s_ratio >1 then consumers are more likely to consume resources within thier module."
   ]
  },
  {
   "cell_type": "markdown",
   "id": "ce46934a-ac92-46a9-a31c-c74b5812cdb2",
   "metadata": {},
   "source": [
    "Define other terms"
   ]
  },
  {
   "cell_type": "code",
   "execution_count": null,
   "id": "bf92674e-7c58-4be1-9046-4cd2cd5a4c3f",
   "metadata": {},
   "outputs": [],
   "source": [
    "   #cost term\n",
    "   m = ones(N)\n",
    "\n",
    "   #resource inflow + outflow\n",
    "   ρ,ω = ones(M),ones(M)"
   ]
  },
  {
   "cell_type": "markdown",
   "id": "0b5db8f5-aeb4-4830-88d2-15b8be6b307e",
   "metadata": {},
   "source": [
    "m is a loss term for the the consumers; ρ and ω are inflow rate and outflow rate for the resource respectively."
   ]
  },
  {
   "cell_type": "markdown",
   "id": "1f8e066e-dddf-4cec-8d0d-83118e6a4e95",
   "metadata": {},
   "source": [
    "Make leakage matrix out of dirichlet distribution and make it modular"
   ]
  },
  {
   "cell_type": "code",
   "execution_count": null,
   "id": "e386fe45-8420-4545-b405-316e3c114d7e",
   "metadata": {},
   "outputs": [],
   "source": [
    "   l = MiCRM.Parameters.modular_leakage(M; N_modules = 2, s_ratio = 10.0, λ = leakage)"
   ]
  },
  {
   "cell_type": "markdown",
   "id": "86e26e62-2e45-4628-8899-761e3b1077a4",
   "metadata": {},
   "source": [
    "<span style=\"color:gray\">`MiCRM.Parameters.modular_leakage`</span> generates a modular leakage matrix with a directional leakage structure. The matrix is generated using a Dirichlet distribution such that the leakage of all resources sums to λ.\n",
    "\n",
    "The number of modules determines how many groups of resources they are split into. For example if N_modules = 5 then the resources will be split into five groups with the first group of resources tending to leak to the second, the second to the third and so on.\n",
    "\n",
    "The degree of to which resources leak in this constrained way (verses randomly across all resources) is determined by the s_ratio value. This controls the relative value of the dirchlet α parameters which determine how the probabiltiy density function is distributed over the different resources. A greater probabiltiy of leakage from one resource to another is obtained by setting the α values for resources to higher values. When s_ratio = 1 the proabailtiy is uniform and all resources are equally likely to be leaked to each other. When s_ratio >1 then resources are more likely to leak to resources thier own or the next module in the sequence."
   ]
  },
  {
   "cell_type": "markdown",
   "id": "e7ef01d4-d097-45ec-a5a8-0bd1c55610cf",
   "metadata": {},
   "source": [
    "Set original state of the system and solve it"
   ]
  },
  {
   "cell_type": "code",
   "execution_count": null,
   "id": "d16e10e5-bc21-4a1b-8fcf-c2e77fea30fe",
   "metadata": {},
   "outputs": [],
   "source": [
    "   #define parameters\n",
    "   param = MiCRM.Parameters.generate_params(N, M;  u = u, m = m, ρ = ρ, ω = ω, l = l, λ = leakage)\n",
    "   \n",
    "   #original state\n",
    "   x0 = ones(N+M)\n",
    "   #time span\n",
    "   tspan = (0.0, 10.0)\n",
    "\n",
    "   #define problem\n",
    "   using DifferentialEquations\n",
    "   prob = ODEProblem(MiCRM.Simulations.dx!, x0, tspan, param)\n",
    "   "
   ]
  },
  {
   "cell_type": "markdown",
   "id": "16dc0295-a56f-46e7-a32f-3639d976abdd",
   "metadata": {},
   "source": [
    "create an ODEProblem object which defines the problem for the ODE solver and then solve it with the aptly named solve function.\n",
    "To define the ODEProblem we need to specify the initial state of the system as well as the timespan"
   ]
  },
  {
   "cell_type": "code",
   "execution_count": null,
   "id": "6ec96a8b-8a7b-4c75-b753-578edef217a6",
   "metadata": {},
   "outputs": [],
   "source": [
    "   sol = solve(prob, Tsit5())"
   ]
  },
  {
   "cell_type": "markdown",
   "id": "470325a8-b6fe-42c6-bff3-f47f16db7e13",
   "metadata": {},
   "source": [
    "In this case, we use Tsit5 as a solver, which is widely applicable for non-stiff problems.\n",
    "If need more information about the solver choice, refer to https://docs.sciml.ai/DiffEqDocs/stable/solvers/ode_solve/"
   ]
  },
  {
   "cell_type": "markdown",
   "id": "d630276c-be81-48c3-ba8e-7bba09aca5c7",
   "metadata": {},
   "source": [
    "Calculate key properties"
   ]
  },
  {
   "cell_type": "code",
   "execution_count": null,
   "id": "4b361994-3824-48db-b60f-85e3e359b795",
   "metadata": {},
   "outputs": [],
   "source": [
    "   # jacobian of system from the solution object\n",
    "   J = MiCRM.Analysis.get_jac(sol)\n",
    "   # generate purbulence matrix\n",
    "   pur = rand(size(J, 1))\n",
    "   # the instantaneous rate of growth of the perturbation pur at time t.\n",
    "   t = 5\n",
    "   MiCRM.Analysis.get_Rins(J, pur, t)\n",
    "   # Determine the stability a system given its jaccobian by testing if the real part of the leading eigenvalue is positive.\n",
    "   MiCRM.Analysis.get_stability(J)\n",
    "   #test whether a system is reactive to the perturbation \n",
    "   MiCRM.Analysis.get_reactivity(J,pur)\n",
    "   #get the rate of return of the system from perturbation\n",
    "   MiCRM.Analysis.get_return_rate(J)"
   ]
  }
 ],
 "metadata": {
  "kernelspec": {
   "display_name": "Julia 1.11.2",
   "language": "julia",
   "name": "julia-1.11"
  },
  "language_info": {
   "file_extension": ".jl",
   "mimetype": "application/julia",
   "name": "julia",
   "version": "1.11.2"
  }
 },
 "nbformat": 4,
 "nbformat_minor": 5
}
