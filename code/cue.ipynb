{
 "cells": [
  {
   "cell_type": "markdown",
   "metadata": {},
   "source": [
    "Microbial consumer resource model"
   ]
  },
  {
   "cell_type": "markdown",
   "metadata": {},
   "source": [
    "$$\n",
    "\\frac{dC_i}{dt} = \\sum_{\\alpha=0}^{M} C_i R_{\\alpha} u_{i\\alpha} (1 - \\lambda_{\\alpha}) - C_i m_i\n",
    "$$\n",
    "\n",
    "$$\n",
    "\\frac{dR_{\\alpha}}{dt} = \\rho_{\\alpha} - R_{\\alpha} \\omega_{\\alpha} - \\sum_{i=0}^{N} C_i R_{\\alpha} u_{i\\alpha} + \\sum_{i=0}^{N} \\sum_{\\beta=0}^{M} C_i R_{\\beta} u_{i\\beta} l_{i\\beta\\alpha}\n",
    "$$\n"
   ]
  },
  {
   "cell_type": "markdown",
   "metadata": {},
   "source": [
    "| **Parameter** | **Description** | **Key** |\n",
    "|--------------|---------------|--------|\n",
    "| $C_i$ | Biomass of the $i$th consumer | - |\n",
    "| $R_{\\alpha}$ | Mass of the $\\alpha$th resource | - |\n",
    "| $N$ | Number of consumer populations | $N$ |\n",
    "| $M$ | Number of resources | $M$ |\n",
    "| $u_{i\\alpha}$ | Uptake rate of the $\\alpha$th resource by the $i$th consumer | $u$ |\n",
    "| $m_i$ | Loss term for the $i$th consumer | $m$ |\n",
    "| $\\rho_{\\alpha}$ | Inflow rate for the $\\alpha$th resource | $\\rho$ |\n",
    "| $\\omega_{\\alpha}$ | Outflow term for the $j$th resource | $\\omega$ |\n",
    "| $l_{i\\alpha\\beta}$ | Proportion of uptake of the $\\alpha$th resource leaked to the $\\beta$th resource by $i$th consumer | $l$ |\n",
    "| $\\lambda_{\\alpha}$ | Total proportion of the $\\alpha$th resource leaked, same as $\\sum_{\\beta} l_{\\alpha\\beta}$ | $\\lambda$ |\n"
   ]
  },
  {
   "cell_type": "markdown",
   "metadata": {},
   "source": [
    "the calculation of carbon usage efficiency of each species"
   ]
  },
  {
   "cell_type": "markdown",
   "metadata": {},
   "source": [
    "$$\n",
    "\\varepsilon_j = \\frac{\\sum_{\\alpha=1}^{M} u_{i\\alpha}(T) \\hat{R}_{\\alpha} \\left( 1 - l_{\\alpha}^{j} \\right) - m_{i}(T)}\n",
    "{\\sum_{\\alpha=1}^{M} u_{i\\alpha}(T) \\hat{R}_{\\alpha}}\n",
    "$$\n",
    "\n",
    "| Symbol | Meaning |\n",
    "|--------|---------|\n",
    "| \\( u_{i\\alpha}(T) \\) | Uptake coefficient |\n",
    "| \\( \\hat{R}_{\\alpha} \\) | Resource availability |\n",
    "| \\( l_{\\alpha}^{j} \\) | Leakage fraction |\n",
    "| \\( m_{i}(T) \\) | Maintenance cost |\n",
    "| \\( M \\) | Total number of resources |\n",
    "\n"
   ]
  },
  {
   "cell_type": "code",
   "execution_count": null,
   "metadata": {},
   "outputs": [],
   "source": []
  }
 ],
 "metadata": {
  "kernelspec": {
   "display_name": "micrm",
   "language": "python",
   "name": "python3"
  },
  "language_info": {
   "codemirror_mode": {
    "name": "ipython",
    "version": 3
   },
   "file_extension": ".py",
   "mimetype": "text/x-python",
   "name": "python",
   "nbconvert_exporter": "python",
   "pygments_lexer": "ipython3",
   "version": "3.12.3"
  }
 },
 "nbformat": 4,
 "nbformat_minor": 2
}
